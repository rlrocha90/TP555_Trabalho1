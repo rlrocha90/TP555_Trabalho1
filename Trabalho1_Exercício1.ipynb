{
  "nbformat": 4,
  "nbformat_minor": 0,
  "metadata": {
    "colab": {
      "provenance": [],
      "authorship_tag": "ABX9TyNUO3U+8Fy6mRFsF2N6XPZr",
      "include_colab_link": true
    },
    "kernelspec": {
      "name": "python3",
      "display_name": "Python 3"
    },
    "language_info": {
      "name": "python"
    }
  },
  "cells": [
    {
      "cell_type": "markdown",
      "metadata": {
        "id": "view-in-github",
        "colab_type": "text"
      },
      "source": [
        "<a href=\"https://colab.research.google.com/github/rlrocha90/TP555_Trabalho1/blob/main/Trabalho1_Exerc%C3%ADcio1.ipynb\" target=\"_parent\"><img src=\"https://colab.research.google.com/assets/colab-badge.svg\" alt=\"Open In Colab\"/></a>"
      ]
    },
    {
      "cell_type": "markdown",
      "source": [
        "Lista #4 - Exercício 13\n",
        "-> Clasificador Naive Bayes"
      ],
      "metadata": {
        "id": "nE2SEPaqLH6v"
      }
    },
    {
      "cell_type": "code",
      "execution_count": 16,
      "metadata": {
        "colab": {
          "base_uri": "https://localhost:8080/"
        },
        "id": "e8qgKu3jJIY2",
        "outputId": "8aa10809-5b81-48c6-cc58-d8b6cf3bfeef"
      },
      "outputs": [
        {
          "output_type": "stream",
          "name": "stdout",
          "text": [
            "['Positive' 'Positive' 'Negative']\n",
            "[[0.24734223 0.75265777]\n",
            " [0.24966211 0.75033789]\n",
            " [0.68838527 0.31161473]]\n"
          ]
        }
      ],
      "source": [
        "# MultinomialNB\n",
        "\n",
        "import numpy as np\n",
        "from sklearn.naive_bayes import MultinomialNB\n",
        "\n",
        "X = [[3, 0, 0, 3],\n",
        "     [0, 1, 1, 2],\n",
        "     [1, 0, 1, 2],\n",
        "     [1, 3, 2, 0],\n",
        "     [1, 5, 0, 2],\n",
        "     [0, 2, 2, 0]]\n",
        "y = np.array(['Positive', 'Positive', 'Positive', 'Negative', 'Negative', 'Negative'])\n",
        "X_test = [[2, 0, 1, 0],\n",
        "        [2, 1, 0, 1],\n",
        "        [1, 1, 0, 0]]\n",
        "\n",
        "\n",
        "clf_M = MultinomialNB(force_alpha=True)\n",
        "clf_M.fit(X, y)\n",
        "\n",
        "y_pred = clf_M.predict(X_test)\n",
        "y_pred_prob = clf_M.predict_proba(X_test)\n",
        "\n",
        "print(y_pred)\n",
        "print(y_pred_prob)"
      ]
    },
    {
      "cell_type": "code",
      "source": [
        "# BernoulliNB\n",
        "from sklearn.naive_bayes import BernoulliNB\n",
        "X = [[1, 0, 0, 1],\n",
        "     [0, 1, 1, 1],\n",
        "     [1, 0, 1, 1],\n",
        "     [1, 1, 1, 0],\n",
        "     [1, 1, 0, 1],\n",
        "     [0, 1, 1, 0]]\n",
        "y = np.array(['Positive', 'Positive', 'Positive', 'Negative', 'Negative', 'Negative'])\n",
        "X_test = [[1, 0, 1, 0],\n",
        "          [1, 1, 0, 1],\n",
        "          [1, 1, 0, 0]]\n",
        "\n",
        "clf_B = BernoulliNB(force_alpha=True)\n",
        "clf_B.fit(X, y)\n",
        "y_pred = clf_B.predict(X_test)\n",
        "y_pred_prob = clf_B.predict_proba(X_test)\n",
        "\n",
        "print(y_pred)\n",
        "print(y_pred_prob)"
      ],
      "metadata": {
        "colab": {
          "base_uri": "https://localhost:8080/"
        },
        "id": "SIWZqBmlgvot",
        "outputId": "ffa65c7d-9001-4a68-abb4-59eba32e8f08"
      },
      "execution_count": 17,
      "outputs": [
        {
          "output_type": "stream",
          "name": "stdout",
          "text": [
            "['Negative' 'Negative' 'Negative']\n",
            "[[0.5        0.5       ]\n",
            " [0.5        0.5       ]\n",
            " [0.85714286 0.14285714]]\n"
          ]
        }
      ]
    }
  ]
}